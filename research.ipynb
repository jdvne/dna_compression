{
 "cells": [
  {
   "cell_type": "markdown",
   "metadata": {},
   "source": [
    "## EXISTING FILE FORMATS FOR DNA\n",
    "- Source: http://genome.ucsc.edu/FAQ/FAQformat.htm\n",
    "- MAF\n",
    "    - The multiple alignment format stores a series of multiple alignments in a format that is easy to parse and relatively easy to read. This format stores multiple alignments at the DNA level between entire genomes.\n",
    "- 2bit\n",
    "    - A .2bit file stores multiple DNA sequences (up to 4 Gb total) in a compact randomly-accessible format. The file contains masking information as well as the DNA itself.\n",
    "- nib\n",
    "    - It describes a DNA sequence by packing two bases into each byte.\n",
    "- FASTA/FASTQ\n",
    "    - base pair sequences\n",
    "- FASTA\n",
    "    - amino acid sequences\n",
    "\n",
    "## EXISTING PYTHON LIBRARIES\n",
    "- Source: https://wiki.python.org/moin/PythonMed\n",
    "- https://bmcbioinformatics.biomedcentral.com/articles/10.1186/s12859-021-04455-3\n",
    "- Biopython (https://biopython.org/)\n",
    "    - includes ability to parse bioinformatics files into Python utilizable data structures, including support for the following formats: \n",
    "        - Blast output – both from standalone and WWW Blast\n",
    "        - Clustalw\n",
    "        - FASTA\n",
    "        - GenBank\n",
    "        - PubMed and Medline\n",
    "        - ExPASy files like Enzyme and Prosite\n",
    "        - SCOP, including ‘dom’ and ‘lin’ files\n",
    "        - UniGene\n",
    "        - SwissProt\n",
    "- pysam (http://pysam.readthedocs.org/)\n",
    "    - Python wrapper package around Samtools, a suite of programs for reading and manipulating high-throughput sequencing data.\n",
    "- kPAL (http://kpal.readthedocs.org/)\n",
    "    - k-mer profile analysis library\n",
    "- DendroPy\n",
    "    - package for phylogenetic computing. It supports a wide range of phylogenetic tree formats and can be used both as a phylogenetic library and for scripting.\n",
    "\n"
   ]
  },
  {
   "cell_type": "markdown",
   "metadata": {},
   "source": [
    "NOTE: many many many fast* files exist apparently: https://fasta.bioch.virginia.edu/fasta_www2/fasta_list2.shtml"
   ]
  },
  {
   "cell_type": "markdown",
   "metadata": {},
   "source": [
    "# DNA File Compression Analysis\n",
    "Ian Switzer, Joshua Devine, Ronith Ranjan\n",
    "\n",
    "May 2, 2022"
   ]
  },
  {
   "cell_type": "markdown",
   "metadata": {},
   "source": [
    "## Overview\n",
    "\n",
    "This project was undertaken a part of CS 4501: Computational Biology taught at the University of Virginia by Professor Dave Evans. Our goal was to examine existing DNA/RNA formats in the field of computational biology to find more efficient ways to store genetic information. Next Generation Sequencing (NGS) has allowed for massive amounts of genomics data to be produced, which has shifted the bottleneck from sequencing to computation; specifically long term storing, managing, and analyzing large amounts of data. Compression tools can reduce the necessary amount of storage. \n",
    "\n",
    "Our project subgoals were as follows: \n",
    "1. Develop our own compressed DNA file format as a learning tool\n",
    "2. Compare our new file format with existing file formats\n",
    "3. Identify the file format with the best performance metrics\n",
    "4. Build a standalone Python library for that file format\n",
    "5. Add support for that file format in [BioPython](https://biopython.org)"
   ]
  },
  {
   "cell_type": "markdown",
   "metadata": {},
   "source": [
    "## File Format Development"
   ]
  },
  {
   "cell_type": "markdown",
   "metadata": {},
   "source": [
    "## Comparison Testing\n",
    "\n",
    "We identified four state-of-the-art FASTQ compression schemes: \n",
    "- [Leon](), DESCRIPTIONS HERE\n",
    "- [Lfqc]()\n",
    "- [Scalce]() \n",
    "- [Slimfastq]()\n",
    "\n",
    "These schemes were tested for their compression ratios across a span of multi-read fastq files. The sizes of these files ranged from 1062 bytes to 5875259 bytes with varied read complexity. Included in the tests were also our newly created file formats and the standard [gzip]() compression format."
   ]
  },
  {
   "cell_type": "code",
   "execution_count": null,
   "metadata": {},
   "outputs": [],
   "source": [
    "# code to generate compressed files here"
   ]
  },
  {
   "cell_type": "markdown",
   "metadata": {},
   "source": [
    "### Results\n",
    "\n",
    "insert table from excel here"
   ]
  },
  {
   "cell_type": "markdown",
   "metadata": {},
   "source": [
    "## Standalone Library\n",
    "\n",
    "With Leon outperforming the other formats, we placed our focus on making the Leon library (which is C++-based) available to Python users.  This led to the creation of [PyLeon](https://github.com/jdvne/pyleon), a module wrapping Python around Leon.  This allows users to compress/decompress .leon files from within a Python environment for use in data processing.\n",
    "\n",
    "> https://github.com/jdvne/pyleon"
   ]
  },
  {
   "cell_type": "markdown",
   "metadata": {},
   "source": [
    "## Pull Request"
   ]
  }
 ],
 "metadata": {
  "interpreter": {
   "hash": "63fd5069d213b44bf678585dea6b12cceca9941eaf7f819626cde1f2670de90d"
  },
  "kernelspec": {
   "display_name": "Python 3.9.4 64-bit",
   "language": "python",
   "name": "python3"
  },
  "language_info": {
   "codemirror_mode": {
    "name": "ipython",
    "version": 3
   },
   "file_extension": ".py",
   "mimetype": "text/x-python",
   "name": "python",
   "nbconvert_exporter": "python",
   "pygments_lexer": "ipython3",
   "version": "3.8.10"
  },
  "orig_nbformat": 4
 },
 "nbformat": 4,
 "nbformat_minor": 2
}
