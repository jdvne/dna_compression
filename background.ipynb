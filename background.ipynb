{
 "cells": [
  {
   "cell_type": "markdown",
   "metadata": {},
   "source": [
    "## EXISTING FILE FORMATS FOR DNA\n",
    "- Source: http://genome.ucsc.edu/FAQ/FAQformat.htm\n",
    "- MAF\n",
    "    - The multiple alignment format stores a series of multiple alignments in a format that is easy to parse and relatively easy to read. This format stores multiple alignments at the DNA level between entire genomes.\n",
    "- 2bit\n",
    "    - A .2bit file stores multiple DNA sequences (up to 4 Gb total) in a compact randomly-accessible format. The file contains masking information as well as the DNA itself.\n",
    "- nib\n",
    "    - It describes a DNA sequence by packing two bases into each byte.\n",
    "- FASTA/FASTQ\n",
    "    - base pair sequences\n",
    "- FASTA\n",
    "    - amino acid sequences\n",
    "\n",
    "## EXISTING PYTHON LIBRARIES\n",
    "- Source: https://wiki.python.org/moin/PythonMed\n",
    "- https://bmcbioinformatics.biomedcentral.com/articles/10.1186/s12859-021-04455-3\n",
    "- Biopython (https://biopython.org/)\n",
    "    - includes ability to parse bioinformatics files into Python utilizable data structures, including support for the following formats: \n",
    "        - Blast output – both from standalone and WWW Blast\n",
    "        - Clustalw\n",
    "        - FASTA\n",
    "        - GenBank\n",
    "        - PubMed and Medline\n",
    "        - ExPASy files like Enzyme and Prosite\n",
    "        - SCOP, including ‘dom’ and ‘lin’ files\n",
    "        - UniGene\n",
    "        - SwissProt\n",
    "- pysam (http://pysam.readthedocs.org/)\n",
    "    - Python wrapper package around Samtools, a suite of programs for reading and manipulating high-throughput sequencing data.\n",
    "- kPAL (http://kpal.readthedocs.org/)\n",
    "    - k-mer profile analysis library\n",
    "- DendroPy\n",
    "    - package for phylogenetic computing. It supports a wide range of phylogenetic tree formats and can be used both as a phylogenetic library and for scripting.\n",
    "\n"
   ]
  },
  {
   "cell_type": "markdown",
   "metadata": {},
   "source": [
    "## Header:\n",
    "\n",
    "?   -> 000 <br>\n",
    "A   -> 001 <br>\n",
    "T/U -> 010 <br>\n",
    "G   -> 011 <br>\n",
    "C   -> 100 <br>\n",
    "XX  -> 101 <br>\n",
    "YY  -> 110 <br>\n",
    "ZZ  -> 111 <br>\n"
   ]
  },
  {
   "cell_type": "code",
   "execution_count": 11,
   "metadata": {},
   "outputs": [
    {
     "name": "stdout",
     "output_type": "stream",
     "text": [
      "Seq('ATTAAAGGTTTATACCTTCCCAGGTAACAAACCAACCAACTTTCGATCTCTTGT...AAA')\n"
     ]
    }
   ],
   "source": [
    "from Bio import SeqIO\n",
    "\n",
    "# for seq_record in SeqIO.parse(\"SARS-Cov2-genome.fastq\", \"fasta\"):\n",
    "#     print(seq_record.id)\n",
    "#     print(repr(seq_record.seq))\n",
    "#     print(len(seq_record))\n",
    "\n",
    "for seq_record in SeqIO.parse(\"SARS-Cov2-genome.fastq\", \"fasta\"):\n",
    "    print(repr(seq_record.seq))"
   ]
  },
  {
   "cell_type": "code",
   "execution_count": 14,
   "metadata": {},
   "outputs": [],
   "source": [
    "data = bytearray()\n",
    "\n",
    "for i in range(len(seq_record.seq) - 1):\n",
    "    base1 = seq_record.seq[i]\n",
    "\n",
    "    if base1 == 'A':\n",
    "        data.append(0b001)\n",
    "    elif base1 == 'T':\n",
    "        data.append(0b010)\n",
    "    elif base1 == 'G':\n",
    "        data.append(0b011)\n",
    "    elif base1 == 'C':\n",
    "        data.append(0b100)\n",
    "\n",
    "\n",
    "with open('test.3b', 'wb+') as f:\n",
    "    f.write(data)"
   ]
  },
  {
   "cell_type": "code",
   "execution_count": null,
   "metadata": {},
   "outputs": [],
   "source": [
    "inbits = bytearray()\n",
    "\n"
   ]
  }
 ],
 "metadata": {
  "interpreter": {
   "hash": "63fd5069d213b44bf678585dea6b12cceca9941eaf7f819626cde1f2670de90d"
  },
  "kernelspec": {
   "display_name": "Python 3.9.4 64-bit",
   "language": "python",
   "name": "python3"
  },
  "language_info": {
   "codemirror_mode": {
    "name": "ipython",
    "version": 3
   },
   "file_extension": ".py",
   "mimetype": "text/x-python",
   "name": "python",
   "nbconvert_exporter": "python",
   "pygments_lexer": "ipython3",
   "version": "3.7.3"
  },
  "orig_nbformat": 4
 },
 "nbformat": 4,
 "nbformat_minor": 2
}
